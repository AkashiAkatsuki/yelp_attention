{
 "cells": [
  {
   "cell_type": "code",
   "execution_count": 1,
   "metadata": {},
   "outputs": [],
   "source": [
    "import os\n",
    "import re\n",
    "import numpy as np\n",
    "import torch\n",
    "import torch.nn as nn\n",
    "import torchtext.data as ttdata\n",
    "from torchtext.vocab import FastText\n",
    "\n",
    "from tqdm import tqdm\n",
    "from caffe2.python import core\n",
    "from torch.utils.tensorboard import SummaryWriter\n",
    "\n",
    "import MeCab\n",
    "\n",
    "import matplotlib.pyplot as plt\n",
    "import sklearn.metrics as metrics\n",
    "import pandas"
   ]
  },
  {
   "cell_type": "code",
   "execution_count": 2,
   "metadata": {},
   "outputs": [
    {
     "name": "stdout",
     "output_type": "stream",
     "text": [
      "device:cuda\n"
     ]
    }
   ],
   "source": [
    "device = 'cuda' if torch.cuda.is_available() else 'cpu'\n",
    "print(\"device:\" + device)\n",
    "\n",
    "batch_size = 32\n",
    "lr = 0.06\n",
    "weight_decay = 0.0001\n",
    "n_epoch = 30\n",
    "eval_interval = 10\n",
    "\n",
    "load_model = False\n",
    "use_vectors = False\n",
    "data_path = \"./data/review_50.4k.json\"\n",
    "output_path = \"exps/attn1/\"\n",
    "if not (os.path.exists(output_path)): os.mkdir(output_path)\n",
    "\n",
    "writer = SummaryWriter(output_path + \"logs\")"
   ]
  },
  {
   "cell_type": "code",
   "execution_count": 3,
   "metadata": {},
   "outputs": [],
   "source": [
    "def tokenize(text):\n",
    "    return text.split(\" \")"
   ]
  },
  {
   "cell_type": "code",
   "execution_count": 4,
   "metadata": {},
   "outputs": [],
   "source": [
    "label_field = ttdata.Field(sequential=False, unk_token=None)\n",
    "text_field = ttdata.Field(sequential=True, lower=True, tokenize=tokenize)\n",
    "\n",
    "dataset = ttdata.TabularDataset(data_path, format='json', fields={'stars' : ('label', label_field) , 'text':('text', text_field)})"
   ]
  },
  {
   "cell_type": "code",
   "execution_count": 5,
   "metadata": {},
   "outputs": [],
   "source": [
    "label_field.build_vocab(dataset)\n",
    "\n",
    "vectors = FastText(language='en') if use_vectors else None\n",
    "text_field.build_vocab(dataset, vectors=vectors)"
   ]
  },
  {
   "cell_type": "code",
   "execution_count": 6,
   "metadata": {
    "scrolled": true
   },
   "outputs": [
    {
     "name": "stdout",
     "output_type": "stream",
     "text": [
      "Items: 504000\n",
      "Vocabs: 928445\n"
     ]
    },
    {
     "data": {
      "image/png": "[encoded data removed]",
      "text/plain": [
       "<Figure size 720x288 with 2 Axes>"
      ]
     },
     "metadata": {
      "needs_background": "light"
     },
     "output_type": "display_data"
    }
   ],
   "source": [
    "length_list = [len(e.text) for e in dataset]\n",
    "\n",
    "fig, (axL, axR) = plt.subplots(ncols=2, figsize=(10,4))\n",
    "\n",
    "axL.hist(length_list, bins=10)\n",
    "axL.set_title(\"Sentences Length Histgram\")\n",
    "\n",
    "freqs = label_field.vocab.freqs\n",
    "axR.bar(range(len(freqs)), list(freqs.values()), tick_label=list(freqs.keys()))\n",
    "axR.set_title(\"Object-Classes Quantity\")\n",
    "\n",
    "print(\"Items: {}\".format(len(dataset)))\n",
    "print(\"Vocabs: {}\".format(len(text_field.vocab)))"
   ]
  },
  {
   "cell_type": "code",
   "execution_count": 7,
   "metadata": {},
   "outputs": [],
   "source": [
    "train_data, test_data = dataset.split(500000/504000)\n",
    "valid_data, test_data = test_data.split(0.5)\n",
    "\n",
    "train_iter = ttdata.BucketIterator(train_data, batch_size=batch_size, device=device, shuffle=True)\n",
    "valid_iter = ttdata.BucketIterator(valid_data, batch_size=batch_size, device=device, shuffle=True)\n",
    "test_iter = ttdata.BucketIterator(test_data, batch_size=1, device=device, shuffle=True)"
   ]
  },
  {
   "cell_type": "code",
   "execution_count": 8,
   "metadata": {},
   "outputs": [
    {
     "name": "stdout",
     "output_type": "stream",
     "text": [
      "Net(\n",
      "  (embed): Embedding(928445, 100)\n",
      "  (lstm): LSTM(100, 300, bidirectional=True)\n",
      "  (attn): Attn(\n",
      "    (fc1): Linear(in_features=600, out_features=350, bias=True)\n",
      "    (fc2): Linear(in_features=350, out_features=10, bias=True)\n",
      "  )\n",
      "  (fc1): Linear(in_features=6000, out_features=2000, bias=True)\n",
      "  (dropout): Dropout(p=0.5)\n",
      "  (fc2): Linear(in_features=2000, out_features=5, bias=True)\n",
      ")\n"
     ]
    }
   ],
   "source": [
    "class Attn(nn.Module):\n",
    "    def __init__(self, in_dim, out_dim, middle_dim=350):\n",
    "        super(Attn, self).__init__()\n",
    "        self.fc1 = nn.Linear(in_dim, middle_dim)\n",
    "        self.fc2 = nn.Linear(middle_dim, out_dim)\n",
    "        \n",
    "    def forward(self, x):\n",
    "        x = self.fc1(x)\n",
    "        x = torch.tanh(x)\n",
    "        x = self.fc2(x)\n",
    "        x = x.permute(0, 2, 1)\n",
    "        x = torch.softmax(x, dim=2)\n",
    "        return x\n",
    "\n",
    "class Net(nn.Module):\n",
    "    def __init__(self, vocab_len, out_dim=2, embed_dim=100, hidden_dim=300, attn_out_dim=10, middle_dim=2000, num_layers=1, dropout=0.5, vocab_vectors=None):\n",
    "        super(Net, self).__init__()\n",
    "        if vocab_vectors is not None: embed_dim = vocab_vectors.shape[1]\n",
    "        self.embed = nn.Embedding(vocab_len, embed_dim)\n",
    "        if vocab_vectors is not None: self.embed.weight.data.copy_(vocab_vectors)\n",
    "        \n",
    "        self.hidden_dim = hidden_dim\n",
    "        self.num_layers = num_layers\n",
    "        self.lstm = nn.LSTM(embed_dim, hidden_dim, num_layers, bidirectional=True)\n",
    "\n",
    "        self.attn = Attn(hidden_dim*2, attn_out_dim)\n",
    "        self.fc1 = nn.Linear(attn_out_dim*hidden_dim*2, middle_dim)\n",
    "        self.dropout = nn.Dropout(dropout)\n",
    "        self.fc2 = nn.Linear(middle_dim, out_dim)\n",
    "        \n",
    "    def init_hidden(self, batch_size):\n",
    "        hidden = torch.zeros(self.num_layers*2, batch_size, self.hidden_dim).to(device, dtype=torch.float)\n",
    "        cell = torch.zeros(self.num_layers*2, batch_size, self.hidden_dim).to(device, dtype=torch.float)\n",
    "        return (hidden, cell)\n",
    "        \n",
    "    def forward(self, x, h_c):\n",
    "        emb = self.embed(x)\n",
    "        seq_len, batch_size = x.shape\n",
    "        x, h_c = self.lstm(emb, h_c)\n",
    "        x = x.permute(1, 0, 2)\n",
    "        attns = self.attn(x)\n",
    "        x = torch.bmm(attns, x)\n",
    "        x = x.reshape(batch_size, -1)\n",
    "        x = self.fc1(x)\n",
    "        x = self.dropout(x)\n",
    "        x = self.fc2(x)\n",
    "        x = torch.softmax(x, dim=1)\n",
    "        return x, attns\n",
    "\n",
    "vectors = text_field.vocab.vectors\n",
    "net = Net(len(text_field.vocab), out_dim=len(label_field.vocab), vocab_vectors=vectors).to(device)\n",
    "if(load_model):\n",
    "    net.load_state_dict(torch.load(output_path + \"model\"))\n",
    "\n",
    "learning_info = \"Batch Size: {}\\n\\nLearning Rate: {}\\n\\nClasses: {}\\n\\nWeight Decay: {}\\n\\n\".format(batch_size, lr, len(label_field.vocab), weight_decay)\n",
    "learning_info += re.sub(\"\\n\", \"\\n\\n\", str(net))\n",
    "writer.add_text(\"network_info\", learning_info)\n",
    "\n",
    "print(net)"
   ]
  },
  {
   "cell_type": "code",
   "execution_count": 9,
   "metadata": {},
   "outputs": [],
   "source": [
    "criterion = torch.nn.CrossEntropyLoss()\n",
    "optimizer = torch.optim.SGD(net.parameters(), lr=lr, weight_decay=weight_decay)\n",
    "\n",
    "learning_info += re.sub(\"\\n\", \"\\n\\n\", str(criterion)) + \"\\n\\n\"\n",
    "learning_info += re.sub(\"\\n\", \"\\n\\n\", str(optimizer)) + \"\\n\\n\"\n",
    "writer.add_text(\"network_info\", learning_info)"
   ]
  },
  {
   "cell_type": "code",
   "execution_count": 10,
   "metadata": {},
   "outputs": [],
   "source": [
    "def train(epoch):\n",
    "    net.train()\n",
    "    loss_sum = 0\n",
    "    preds = []\n",
    "    targets = []\n",
    "    for index, data in enumerate(tqdm(train_iter, \"Epoch-{}\".format(epoch))):\n",
    "        text = data.text\n",
    "        target = data.label\n",
    "        \n",
    "        optimizer.zero_grad()\n",
    "        h = net.init_hidden(data.batch_size)\n",
    "        out, _ = net(text, h)\n",
    "        loss = criterion(out, target)\n",
    "        loss.backward()\n",
    "        optimizer.step()\n",
    "        \n",
    "        loss_sum += loss.item()\n",
    "        preds += [o.argmax().item() for o in out]\n",
    "        targets += [t.item() for t in target]\n",
    "    train_loss = loss_sum / len(train_iter)\n",
    "    writer.add_scalar('train/loss', train_loss, epoch + 1)\n",
    "    accuracy = metrics.accuracy_score(targets, preds)\n",
    "    writer.add_scalar('train/accuracy', accuracy, epoch + 1)\n",
    "    return train_loss\n",
    "    \n",
    "def validation(epoch):\n",
    "    net.eval()\n",
    "    loss_sum = 0\n",
    "    preds = []\n",
    "    targets = []\n",
    "    for data in iter(valid_iter):\n",
    "        text = data.text\n",
    "        target = data.label\n",
    "        h = net.init_hidden(data.batch_size)\n",
    "        out, _ = net(text, h)\n",
    "        loss = criterion(out, target)\n",
    "        loss_sum += loss.item()\n",
    "        preds += [o.argmax().item() for o in out]\n",
    "        targets += [t.item() for t in target]\n",
    "    valid_loss = loss_sum / len(valid_iter)\n",
    "    writer.add_scalar('validation/loss', valid_loss, epoch + 1)\n",
    "    accuracy = metrics.accuracy_score(targets, preds)\n",
    "    writer.add_scalar('validation/accuracy', accuracy, epoch + 1)\n",
    "    return valid_loss\n",
    "\n",
    "def eval(epoch):\n",
    "    net.eval()\n",
    "    loss_sum = 0\n",
    "    losses = []\n",
    "    preds = []\n",
    "    targets = []\n",
    "    for data in iter(test_iter):\n",
    "        text = data.text\n",
    "        target = data.label\n",
    "        h = net.init_hidden(data.batch_size)\n",
    "        out, _ = net(text, h)\n",
    "        loss_sum += criterion(out, target)\n",
    "        \n",
    "        losses += [criterion(out, target).item()]\n",
    "        \n",
    "        preds += [o.argmax().item() for o in out]\n",
    "        targets += [t.item() for t in target]\n",
    "    test_loss = loss_sum / len(test_iter)\n",
    "    # print(\"Test Loss: {}\".format(test_loss))\n",
    "    \n",
    "    greater_loss_indexes = np.argsort(losses)[-10:]\n",
    "    report = metrics.classification_report(targets, preds, labels=range(len(label_field.vocab)), target_names=list(label_field.vocab.itos), output_dict=True)\n",
    "    report = pandas.DataFrame(report)\n",
    "    with open(output_path + \"report_{}.tsv\".format(epoch), 'w') as file:\n",
    "        file.write(report.to_csv(sep=\"\\t\"))"
   ]
  },
  {
   "cell_type": "code",
   "execution_count": null,
   "metadata": {
    "scrolled": false
   },
   "outputs": [
    {
     "name": "stderr",
     "output_type": "stream",
     "text": [
      "Epoch-0: 100%|██████████| 15625/15625 [21:13<00:00, 12.27it/s]\n",
      "/home/sakashita/.pyenv/versions/anaconda3-5.3.1/lib/python3.7/site-packages/sklearn/metrics/classification.py:1437: UndefinedMetricWarning: Precision and F-score are ill-defined and being set to 0.0 in labels with no predicted samples.\n",
      "  'precision', 'predicted', average, warn_for)\n",
      "Epoch-1:  77%|███████▋  | 12059/15625 [16:26<04:31, 13.16it/s]"
     ]
    }
   ],
   "source": [
    "for epoch in range(n_epoch):\n",
    "    train_loss = train(epoch)\n",
    "    valid_loss = validation(epoch)\n",
    "    # print(\"Epoch: {}, Train Loss: {}, Validation Loss: {}\".format(epoch, train_loss, valid_loss))\n",
    "    writer.export_scalars_to_json(output_path + \"all_scalars.json\")\n",
    "    if(epoch % eval_interval == 0):\n",
    "        eval(epoch)\n",
    "\n",
    "writer.close()"
   ]
  },
  {
   "cell_type": "code",
   "execution_count": null,
   "metadata": {},
   "outputs": [],
   "source": [
    "torch.save(net.state_dict(), output_path + \"model\")"
   ]
  }
 ],
 "metadata": {
  "kernelspec": {
   "display_name": "Python 3",
   "language": "python",
   "name": "python3"
  },
  "language_info": {
   "codemirror_mode": {
    "name": "ipython",
    "version": 3
   },
   "file_extension": ".py",
   "mimetype": "text/x-python",
   "name": "python",
   "nbconvert_exporter": "python",
   "pygments_lexer": "ipython3",
   "version": "3.7.1"
  }
 },
 "nbformat": 4,
 "nbformat_minor": 2
}
